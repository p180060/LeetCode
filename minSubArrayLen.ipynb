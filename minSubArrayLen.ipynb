{
 "cells": [
  {
   "cell_type": "code",
   "execution_count": 4,
   "id": "07a9b309",
   "metadata": {},
   "outputs": [],
   "source": [
    "def minSubArrayLen(target, nums):\n",
    "    start = 0\n",
    "    currentSum = 0\n",
    "    minWindow = 2**31\n",
    "    for i in range(len(nums)):\n",
    "        currentSum += nums[i]\n",
    "        while(currentSum >= target):\n",
    "            minWindow = min(minWindow,i-start+1)\n",
    "            currentSum -= nums[start]\n",
    "            start +=1 \n",
    "    if(minWindow==2**31):\n",
    "        return 0\n",
    "    return minWindow"
   ]
  },
  {
   "cell_type": "code",
   "execution_count": 5,
   "id": "28f5a812",
   "metadata": {},
   "outputs": [
    {
     "data": {
      "text/plain": [
       "2"
      ]
     },
     "execution_count": 5,
     "metadata": {},
     "output_type": "execute_result"
    }
   ],
   "source": [
    "nums = [2,3,1,1,2,4,3]\n",
    "target = 7\n",
    "nums1 = [1,4,4]\n",
    "target1 = 4\n",
    "nums2 = [1,2,3,5,8,2,2,0]\n",
    "target2 = 100\n",
    "minSubArrayLen(target, nums)"
   ]
  },
  {
   "cell_type": "code",
   "execution_count": null,
   "id": "a9f0ec0d",
   "metadata": {},
   "outputs": [],
   "source": []
  }
 ],
 "metadata": {
  "kernelspec": {
   "display_name": "Python 3 (ipykernel)",
   "language": "python",
   "name": "python3"
  },
  "language_info": {
   "codemirror_mode": {
    "name": "ipython",
    "version": 3
   },
   "file_extension": ".py",
   "mimetype": "text/x-python",
   "name": "python",
   "nbconvert_exporter": "python",
   "pygments_lexer": "ipython3",
   "version": "3.10.6"
  }
 },
 "nbformat": 4,
 "nbformat_minor": 5
}
