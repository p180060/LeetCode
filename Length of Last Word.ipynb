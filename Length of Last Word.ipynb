{
 "cells": [
  {
   "cell_type": "code",
   "execution_count": 1,
   "id": "745a2f9a",
   "metadata": {},
   "outputs": [],
   "source": [
    "s = \"Hello World\"\n",
    "s1 = \"   fly me   to   the moon  \"\n",
    "s2 = \"luffy is still joyboy\""
   ]
  },
  {
   "cell_type": "code",
   "execution_count": 2,
   "id": "f2fc1e8b",
   "metadata": {},
   "outputs": [
    {
     "data": {
      "text/plain": [
       "4"
      ]
     },
     "execution_count": 2,
     "metadata": {},
     "output_type": "execute_result"
    }
   ],
   "source": [
    "def length_of_last_word(s):\n",
    "    count = 0\n",
    "    for i in reversed(range(len(s))):\n",
    "        if(s[i] != \" \"):\n",
    "            count += 1\n",
    "        elif s[i] == \" \" and count >=1:\n",
    "            break\n",
    "    return count\n",
    "            \n",
    "s = \"   fly me   to   the moon  \"\n",
    "length_of_last_word(s)\n"
   ]
  },
  {
   "cell_type": "code",
   "execution_count": null,
   "id": "b69fb337",
   "metadata": {},
   "outputs": [],
   "source": []
  }
 ],
 "metadata": {
  "kernelspec": {
   "display_name": "Python 3 (ipykernel)",
   "language": "python",
   "name": "python3"
  },
  "language_info": {
   "codemirror_mode": {
    "name": "ipython",
    "version": 3
   },
   "file_extension": ".py",
   "mimetype": "text/x-python",
   "name": "python",
   "nbconvert_exporter": "python",
   "pygments_lexer": "ipython3",
   "version": "3.10.6"
  }
 },
 "nbformat": 4,
 "nbformat_minor": 5
}
