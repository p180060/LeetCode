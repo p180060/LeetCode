{
 "cells": [
  {
   "cell_type": "markdown",
   "metadata": {},
   "source": [
    "## Reverse of integers"
   ]
  },
  {
   "cell_type": "code",
   "execution_count": null,
   "metadata": {},
   "outputs": [],
   "source": [
    "def reverse(x):\n",
    "    y=0\n",
    "    # if(x >= l or x <= m):\n",
    "    #     return y\n",
    "    if(x == 0):\n",
    "        print(x)\n",
    "    if(x<0):\n",
    "        x=x*-1\n",
    "        while(x > 0):\n",
    "            a=(x%10)\n",
    "            y=y*10+a\n",
    "            x=x/10\n",
    "        y=y*-1\n",
    "        print(y)\n",
    "    else:\n",
    "        while(x > 0):\n",
    "            a=(x%10)\n",
    "            y=y*10+a\n",
    "            x=x/10\n",
    "        print (y)"
   ]
  },
  {
   "cell_type": "code",
   "execution_count": null,
   "metadata": {},
   "outputs": [],
   "source": [
    "def reverse(self,x):\n",
    "    y=0\n",
    "    if(x == 0):\n",
    "        return (x)\n",
    "    else:\n",
    "        z=abs(x)\n",
    "        while(z!=0):\n",
    "            a=(z%10)\n",
    "            y=y*10+a\n",
    "            z=z/10\n",
    "        if y  > 1<<31:return 0\n",
    "        if(x>0):return y\n",
    "        elif(x<0):return(y*-1)\n",
    "print(reverse(1234,x))"
   ]
  },
  {
   "cell_type": "markdown",
   "metadata": {},
   "source": [
    "## Palindrome "
   ]
  },
  {
   "cell_type": "code",
   "execution_count": null,
   "metadata": {},
   "outputs": [],
   "source": [
    "def isPalindrome(self, x):\n",
    "    y=0\n",
    "    z=x\n",
    "    if(x<0):\n",
    "        return False\n",
    "    else:\n",
    "        while(z > 0):\n",
    "            a=z%10\n",
    "            y=y*10+a\n",
    "            z=z//10\n",
    "        if(y == x):\n",
    "            return True\n",
    "        else: return False\n",
    "isPalindrome(121,x)"
   ]
  },
  {
   "cell_type": "markdown",
   "metadata": {},
   "source": [
    "## Roman to integers"
   ]
  },
  {
   "cell_type": "code",
   "execution_count": null,
   "metadata": {},
   "outputs": [],
   "source": [
    "def roman(x):\n",
    "    Cap={'I':1,'V':5,'X':10,'L':50,'C':100,'D':500,'M':1000}\n",
    "    length=len(x)\n",
    "    y=0\n",
    "    upper=x.upper()\n",
    "    for i in range(0,length):\n",
    "        if i>0 and   Cap[upper[i]] > Cap[upper[i-1]]:\n",
    "            y = y+Cap[upper[i]]-2*Cap[upper[i-1]]\n",
    "        else:\n",
    "            y=y+Cap[upper[i]]\n",
    "    return y\n",
    "print(roman('IV'))       "
   ]
  },
  {
   "cell_type": "markdown",
   "metadata": {},
   "source": [
    "## Valid Parathesis"
   ]
  },
  {
   "cell_type": "code",
   "execution_count": null,
   "metadata": {},
   "outputs": [],
   "source": [
    "def valid(s):\n",
    "    stack=[]\n",
    "    list={\")\":\"(\",\"]\":\"[\",\"}\":\"{\"}\n",
    "    for i in s:\n",
    "        if i in list:\n",
    "            if stack and stack[-1] == list[i]:\n",
    "                stack.pop()\n",
    "            else:\n",
    "                return False\n",
    "        else:\n",
    "            stack.append(i)\n",
    "        \n",
    "    return True if not stack else False\n",
    "            \n",
    "valid(\"{(})\")  "
   ]
  },
  {
   "cell_type": "markdown",
   "metadata": {},
   "source": [
    "## Merge Two Sorted Array"
   ]
  },
  {
   "cell_type": "code",
   "execution_count": null,
   "metadata": {},
   "outputs": [],
   "source": [
    "list1=[1,2,2,5,6]\n",
    "list2=[1,5]\n",
    "list1=list1+list2\n",
    "print(list1)\n",
    "# n1=len(list1)\n",
    "# n2=len(list2)\n",
    "# #list3=[None]*(n1+n2)\n",
    "# i,j,k=0,0,0\n",
    "# while(i < n1 and j < n2):\n",
    "#     if(list1[i] < list2[j]):\n",
    "#         i+=1\n",
    "#         j+=1\n",
    "#     else:\n",
    "#         list1[i]=list2[j]\n",
    "#         i+=1\n",
    "#         j+=1\n",
    "# while(j< n2 and i < n1 ):\n",
    "#     list1[j] = list2[j]\n",
    "#     j+=1\n",
    "#  i+=1\n",
    "x=0\n",
    "i=0\n",
    "n1=len(list1)\n",
    "for i in range(0,n1):\n",
    "    for j in range(i+1,n1):\n",
    "        if(list1[i] < list1[j]):\n",
    "            x=x\n",
    "        else:\n",
    "            x=list1[i]\n",
    "            list1[i]=list1[j]\n",
    "            list1[j]= x\n",
    "print(list1)"
   ]
  },
  {
   "cell_type": "markdown",
   "metadata": {},
   "source": [
    "## Merge Two Sorted Linked List"
   ]
  },
  {
   "cell_type": "code",
   "execution_count": null,
   "metadata": {},
   "outputs": [],
   "source": [
    "class ListNode(object):\n",
    "    def __init__(self, val=0, next=None):\n",
    "        self.val = val\n",
    "        self.next = next\n",
    "class Solution(object):\n",
    "    def mergeTwoLists(self, l1, l2):\n",
    "        temp = dummy = ListNode(0)\n",
    "        if(l1 is None):\n",
    "            return l2\n",
    "        if(l2 is None):\n",
    "            return l1\n",
    "        \n",
    "        while(l1.next != None and l2.next != None):\n",
    "            if(l1.value < l2.value):\n",
    "                temp.next = l1\n",
    "                l1 = l1.next\n",
    "            else:\n",
    "                temp.next=l2\n",
    "                l2 = l2.next\n",
    "        if(l1):\n",
    "            temp.next=l1\n",
    "            l1 = l1.next\n",
    "        if(l2):\n",
    "            temp.next=l2\n",
    "            l2 = l2.next\n",
    "            \n",
    "        return dummy.next\n",
    "        "
   ]
  },
  {
   "cell_type": "markdown",
   "metadata": {},
   "source": [
    "## Remove Duplicates Form Array "
   ]
  },
  {
   "cell_type": "code",
   "execution_count": 18,
   "metadata": {},
   "outputs": [
    {
     "name": "stdout",
     "output_type": "stream",
     "text": [
      "[1, 1, 2, 2, 2, 3, 3, 4, 5]\n",
      "9\n",
      "[1, 2, 3, 4, 5]\n"
     ]
    }
   ],
   "source": [
    "  def removeDuplicates(nums):\n",
    "        \"\"\"\n",
    "        :type nums: List[int]\n",
    "        :rtype: int\n",
    "        \"\"\"\n",
    "        print(nums)\n",
    "        print(len(nums))\n",
    "        length=len(nums)\n",
    "        i=0\n",
    "        while i < len(nums)-1:\n",
    "            if(i < len(nums)-1):\n",
    "                if(nums[i]==nums[i+1]):\n",
    "                    del(nums[i])\n",
    "                else:\n",
    "                    i += 1\n",
    "        return(nums)\n",
    "nums=[1,1,2,2,2,3,3,4,5]\n",
    "print(removeDuplicates(nums))"
   ]
  },
  {
   "cell_type": "markdown",
   "metadata": {},
   "source": [
    "# REMOVE ELEMENT FOR ARRAY"
   ]
  },
  {
   "cell_type": "code",
   "execution_count": 4,
   "metadata": {},
   "outputs": [
    {
     "data": {
      "text/plain": [
       "[3, 3]"
      ]
     },
     "execution_count": 4,
     "metadata": {},
     "output_type": "execute_result"
    }
   ],
   "source": [
    "def removeElement(nums, val):\n",
    "        \"\"\"\n",
    "        :type nums: List[int]\n",
    "        :type val: int\n",
    "        :rtype: int\n",
    "        \"\"\"\n",
    "        j=0\n",
    "        list1=[]\n",
    "        for i in range(0,len(nums)):\n",
    "            if(nums[i] != val):\n",
    "                list1.append(nums[i])\n",
    "        nums=list1\n",
    "        return nums\n",
    "nums=[3,2,2,3]\n",
    "val=2\n",
    "removeElement(nums,val)  "
   ]
  },
  {
   "cell_type": "code",
   "execution_count": null,
   "metadata": {},
   "outputs": [],
   "source": []
  }
 ],
 "metadata": {
  "kernelspec": {
   "display_name": "Python 3",
   "language": "python",
   "name": "python3"
  },
  "language_info": {
   "codemirror_mode": {
    "name": "ipython",
    "version": 3
   },
   "file_extension": ".py",
   "mimetype": "text/x-python",
   "name": "python",
   "nbconvert_exporter": "python",
   "pygments_lexer": "ipython3",
   "version": "3.8.10"
  }
 },
 "nbformat": 4,
 "nbformat_minor": 2
}
