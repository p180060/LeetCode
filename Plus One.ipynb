{
 "cells": [
  {
   "cell_type": "code",
   "execution_count": 52,
   "id": "25827915",
   "metadata": {},
   "outputs": [
    {
     "name": "stdout",
     "output_type": "stream",
     "text": [
      "100\n"
     ]
    },
    {
     "data": {
      "text/plain": [
       "[1, 0, 0]"
      ]
     },
     "execution_count": 52,
     "metadata": {},
     "output_type": "execute_result"
    }
   ],
   "source": [
    "digits = [0,9,9]\n",
    "\n",
    "def Plus_one(nums):\n",
    "    count = \"\"\n",
    "    for i in range(len(nums)):\n",
    "        count += str(nums[i])\n",
    "    x = str(int(count)+1)\n",
    "    print(x)\n",
    "    nums1 = []\n",
    "    for i in range(len(x)):\n",
    "        nums1.append(int(x[i]))\n",
    "    return nums1\n",
    "Plus_one(digits)"
   ]
  },
  {
   "cell_type": "code",
   "execution_count": null,
   "id": "9d46ebb1",
   "metadata": {},
   "outputs": [],
   "source": []
  }
 ],
 "metadata": {
  "kernelspec": {
   "display_name": "Python 3 (ipykernel)",
   "language": "python",
   "name": "python3"
  },
  "language_info": {
   "codemirror_mode": {
    "name": "ipython",
    "version": 3
   },
   "file_extension": ".py",
   "mimetype": "text/x-python",
   "name": "python",
   "nbconvert_exporter": "python",
   "pygments_lexer": "ipython3",
   "version": "3.10.6"
  }
 },
 "nbformat": 4,
 "nbformat_minor": 5
}
