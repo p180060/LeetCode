{
 "cells": [
  {
   "cell_type": "code",
   "execution_count": 81,
   "id": "130a87b5",
   "metadata": {},
   "outputs": [],
   "source": [
    "def removeElement(nums, val) -> int:\n",
    "#     for i in range(len(nums)):\n",
    "#         for j in range(i,len(nums)):\n",
    "#             if(nums[i]>=nums[j]):\n",
    "#                 x=nums[i]\n",
    "#                 nums[i] = nums[j]\n",
    "#                 nums[j] = x\n",
    "    K = 0\n",
    "    for i in range(len(nums)):\n",
    "        if nums[i] == val:\n",
    "            nums[i] = '_'\n",
    "        else:\n",
    "            K += 1\n",
    "    for i in range(len(nums)-1):\n",
    "        for j in range(i,len(nums)):\n",
    "            if(nums[i] == '_'):\n",
    "                x=nums[i]\n",
    "                nums[i] = nums[j]\n",
    "                nums[j] = x\n",
    "            \n",
    "    return K,nums"
   ]
  },
  {
   "cell_type": "code",
   "execution_count": 82,
   "id": "e228e60c",
   "metadata": {},
   "outputs": [
    {
     "data": {
      "text/plain": [
       "(5, [0, 1, 3, 0, 4, '_', '_', '_'])"
      ]
     },
     "execution_count": 82,
     "metadata": {},
     "output_type": "execute_result"
    }
   ],
   "source": [
    "List = [0,1,2,2,3,0,4,2]\n",
    "val=2\n",
    "removeElement(List,val)"
   ]
  },
  {
   "cell_type": "code",
   "execution_count": null,
   "id": "8159624c",
   "metadata": {},
   "outputs": [],
   "source": []
  }
 ],
 "metadata": {
  "kernelspec": {
   "display_name": "Python 3 (ipykernel)",
   "language": "python",
   "name": "python3"
  },
  "language_info": {
   "codemirror_mode": {
    "name": "ipython",
    "version": 3
   },
   "file_extension": ".py",
   "mimetype": "text/x-python",
   "name": "python",
   "nbconvert_exporter": "python",
   "pygments_lexer": "ipython3",
   "version": "3.10.6"
  }
 },
 "nbformat": 4,
 "nbformat_minor": 5
}
