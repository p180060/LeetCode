{
 "cells": [
  {
   "cell_type": "markdown",
   "id": "32a7a515",
   "metadata": {},
   "source": [
    "### Input: x = 4\n",
    "### Output: 2\n",
    "### Explanation: The square root of 4 is 2, so we return 2."
   ]
  },
  {
   "cell_type": "code",
   "execution_count": 15,
   "id": "66cc7287",
   "metadata": {},
   "outputs": [],
   "source": [
    "def mySqrt(x):\n",
    "    if(x == 0):\n",
    "        return 0\n",
    "    first:int = 1\n",
    "    last:int = x//2\n",
    "        \n",
    "    while  first <= last:\n",
    "        mid:int = (first + (last-first) // 2)\n",
    "        if(mid == x / mid):\n",
    "            return mid \n",
    "        elif(mid > x/mid):\n",
    "            last = int(mid-1)\n",
    "        else:\n",
    "            first = mid + 1\n",
    "    return last"
   ]
  },
  {
   "cell_type": "code",
   "execution_count": 16,
   "id": "5028505d",
   "metadata": {},
   "outputs": [
    {
     "data": {
      "text/plain": [
       "12"
      ]
     },
     "execution_count": 16,
     "metadata": {},
     "output_type": "execute_result"
    }
   ],
   "source": [
    "mySqrt(144)"
   ]
  },
  {
   "cell_type": "code",
   "execution_count": null,
   "id": "af9d73d9",
   "metadata": {},
   "outputs": [],
   "source": [
    "144/2\n"
   ]
  },
  {
   "cell_type": "code",
   "execution_count": null,
   "id": "39757031",
   "metadata": {},
   "outputs": [],
   "source": [
    "x:int=4\n",
    "if(x == 0):\n",
    "    ptint(0)\n",
    "first = 1\n",
    "last = x\n",
    "        \n",
    "while  first <= last:\n",
    "    mid = (first + (last-first) // 2)\n",
    "    if(mid == x // mid):\n",
    "        print(mid) \n",
    "    elif(mid > x//mid):\n",
    "        last = int(mid-1)\n",
    "    else:\n",
    "        first = mid + 1\n",
    "print(last)"
   ]
  },
  {
   "cell_type": "code",
   "execution_count": null,
   "id": "2cad1c52",
   "metadata": {},
   "outputs": [],
   "source": []
  }
 ],
 "metadata": {
  "kernelspec": {
   "display_name": "Python 3 (ipykernel)",
   "language": "python",
   "name": "python3"
  },
  "language_info": {
   "codemirror_mode": {
    "name": "ipython",
    "version": 3
   },
   "file_extension": ".py",
   "mimetype": "text/x-python",
   "name": "python",
   "nbconvert_exporter": "python",
   "pygments_lexer": "ipython3",
   "version": "3.10.6"
  }
 },
 "nbformat": 4,
 "nbformat_minor": 5
}
