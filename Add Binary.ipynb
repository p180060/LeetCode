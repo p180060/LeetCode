{
 "cells": [
  {
   "cell_type": "markdown",
   "id": "5678e94e",
   "metadata": {},
   "source": [
    "### Input: a = \"11\", b = \"1\"\n",
    "### Output: \"100\""
   ]
  },
  {
   "cell_type": "code",
   "execution_count": 31,
   "id": "d0207a56",
   "metadata": {},
   "outputs": [
    {
     "name": "stdout",
     "output_type": "stream",
     "text": [
      "10001\n"
     ]
    }
   ],
   "source": [
    "def Add_Binary(a,b):\n",
    "    count = len(a)-1\n",
    "    count1 = len(b)-1\n",
    "    z = []\n",
    "    carry = 0\n",
    "    while True:\n",
    "        x = 0\n",
    "        y = 0\n",
    "        if(count >= 0):\n",
    "            x = int(a[count])\n",
    "        if(count1 >= 0):\n",
    "            y = int(b[count1])\n",
    "        if(x+y+carry == 0):\n",
    "            z.insert(0,0)\n",
    "            carry = 0\n",
    "            pass\n",
    "        if(x+y+carry == 1):\n",
    "            z.insert(0,1)\n",
    "            carry = 0\n",
    "            pass\n",
    "        elif(x+y+carry == 2):\n",
    "            z.insert(0,0)\n",
    "            carry = 1\n",
    "            pass\n",
    "        elif(x+y+carry == 3):\n",
    "            z.insert(0,1)\n",
    "            carry = 1\n",
    "            pass\n",
    "        x = max(count,count1)\n",
    "        if(x == -1):\n",
    "            break\n",
    "        count -=  1\n",
    "        count1 -= 1\n",
    "    x = \"\" \n",
    "    for i in range(len(z)):\n",
    "        x += str(z[i])\n",
    "    x = int(x)\n",
    "    x = str(x)\n",
    "    print(x)\n",
    "a = \"1111\"\n",
    "b = \"10\"           \n",
    "Add_Binary(a,b)"
   ]
  },
  {
   "cell_type": "code",
   "execution_count": null,
   "id": "337c3753",
   "metadata": {},
   "outputs": [],
   "source": [
    "count = 2\n",
    "count1 = 3\n",
    "x = max(count,count1)\n",
    "print(x)"
   ]
  },
  {
   "cell_type": "code",
   "execution_count": null,
   "id": "41c1b956",
   "metadata": {},
   "outputs": [],
   "source": []
  }
 ],
 "metadata": {
  "kernelspec": {
   "display_name": "Python 3 (ipykernel)",
   "language": "python",
   "name": "python3"
  },
  "language_info": {
   "codemirror_mode": {
    "name": "ipython",
    "version": 3
   },
   "file_extension": ".py",
   "mimetype": "text/x-python",
   "name": "python",
   "nbconvert_exporter": "python",
   "pygments_lexer": "ipython3",
   "version": "3.10.6"
  }
 },
 "nbformat": 4,
 "nbformat_minor": 5
}
